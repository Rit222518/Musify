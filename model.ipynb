{
 "cells": [
  {
   "cell_type": "code",
   "execution_count": 3,
   "id": "229375df",
   "metadata": {},
   "outputs": [],
   "source": [
    "import pandas as pd\n",
    "df = pd.read_csv('musicds.csv')\n",
    "df = df.drop_duplicates()\n",
    "df = df.dropna()"
   ]
  },
  {
   "cell_type": "code",
   "execution_count": null,
   "id": "4f3eaa41",
   "metadata": {},
   "outputs": [],
   "source": [
    "from sklearn.preprocessing import OneHotEncoder\n",
    "# Select relevant features for recommendations\n",
    "features = ['artist_name', 'release_date', 'genre', 'topic']\n",
    "\n",
    "# Define weights for each feature (you can adjust these weights)\n",
    "weights = {\n",
    "    'artist_name': 1.5,  # higher weight means more importance\n",
    "    'release_date': 0.5, \n",
    "    'genre': 1.0, \n",
    "    'topic': 1.2\n",
    "}\n",
    "\n",
    "# One-hot encode categorical features\n",
    "encoder = OneHotEncoder()\n",
    "encoded_features = encoder.fit_transform(df[features]).toarray()\n",
    "\n",
    "# Apply weights to the encoded features\n",
    "weighted_features = encoded_features.copy()\n",
    "\n",
    "# Applying different weights to each feature group\n",
    "start = 0\n",
    "for feature, weight in zip(features, weights.values()):\n",
    "    end = start + len(encoder.categories_[features.index(feature)])\n",
    "    weighted_features[:, start:end] *= weight\n",
    "    start = end\n"
   ]
  },
  {
   "cell_type": "code",
   "execution_count": 4,
   "id": "00bdd3f1",
   "metadata": {},
   "outputs": [
    {
     "ename": "NameError",
     "evalue": "name 'weighted_features' is not defined",
     "output_type": "error",
     "traceback": [
      "\u001b[1;31m---------------------------------------------------------------------------\u001b[0m",
      "\u001b[1;31mNameError\u001b[0m                                 Traceback (most recent call last)",
      "Cell \u001b[1;32mIn[4], line 3\u001b[0m\n\u001b[0;32m      1\u001b[0m \u001b[38;5;28;01mfrom\u001b[39;00m \u001b[38;5;21;01msklearn\u001b[39;00m\u001b[38;5;21;01m.\u001b[39;00m\u001b[38;5;21;01mmetrics\u001b[39;00m\u001b[38;5;21;01m.\u001b[39;00m\u001b[38;5;21;01mpairwise\u001b[39;00m \u001b[38;5;28;01mimport\u001b[39;00m cosine_similarity\n\u001b[1;32m----> 3\u001b[0m similarity_matrix \u001b[38;5;241m=\u001b[39m cosine_similarity(\u001b[43mweighted_features\u001b[49m)\n\u001b[0;32m      4\u001b[0m \u001b[38;5;28;01mdef\u001b[39;00m \u001b[38;5;21mrecommend_songs_with_priorities\u001b[39m(song_index, num_recommendations\u001b[38;5;241m=\u001b[39m\u001b[38;5;241m5\u001b[39m):\n\u001b[0;32m      5\u001b[0m     \u001b[38;5;66;03m# Get similarity scores for the input song\u001b[39;00m\n\u001b[0;32m      6\u001b[0m     song_similarities \u001b[38;5;241m=\u001b[39m similarity_matrix[song_index]\n",
      "\u001b[1;31mNameError\u001b[0m: name 'weighted_features' is not defined"
     ]
    }
   ],
   "source": [
    "from sklearn.metrics.pairwise import cosine_similarity\n",
    "\n",
    "similarity_matrix = cosine_similarity(weighted_features)\n",
    "def recommend_songs_with_priorities(song_index, num_recommendations=5):\n",
    "    # Get similarity scores for the input song\n",
    "    song_similarities = similarity_matrix[song_index]\n",
    "    \n",
    "    # Get indices of the most similar songs, excluding the input song itself\n",
    "    similar_songs_indices = song_similarities.argsort()[::-1][1:num_recommendations+1]\n",
    "    \n",
    "    # Return details of the most similar songs\n",
    "    return df.iloc[similar_songs_indices][['artist_name', 'track_name', 'release_date', 'genre', 'topic']]\n",
    "recommended_songs = recommend_songs_with_priorities(0, num_recommendations=5)\n",
    "recommended_songs\n"
   ]
  },
  {
   "cell_type": "code",
   "execution_count": null,
   "id": "f4579f91",
   "metadata": {},
   "outputs": [],
   "source": []
  }
 ],
 "metadata": {
  "kernelspec": {
   "display_name": "Python 3 (ipykernel)",
   "language": "python",
   "name": "python3"
  },
  "language_info": {
   "codemirror_mode": {
    "name": "ipython",
    "version": 3
   },
   "file_extension": ".py",
   "mimetype": "text/x-python",
   "name": "python",
   "nbconvert_exporter": "python",
   "pygments_lexer": "ipython3",
   "version": "3.11.4"
  }
 },
 "nbformat": 4,
 "nbformat_minor": 5
}
